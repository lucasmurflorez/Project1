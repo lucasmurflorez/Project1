{
    "cells": [
        {
            "cell_type": "markdown",
            "metadata": {
                "collapsed": true
            },
            "source": "# Week 4 - Project"
        },
        {
            "cell_type": "markdown",
            "metadata": {},
            "source": "I will try to decide the best location for an Italian Restaurant in a big City of Canada, like TORONTO for example. I'll try to make some recommendations for that ."
        },
        {
            "cell_type": "markdown",
            "metadata": {},
            "source": "Using Data Science methods and machine le"
        },
        {
            "cell_type": "markdown",
            "metadata": {},
            "source": "#  Data Section"
        },
        {
            "cell_type": "markdown",
            "metadata": {},
            "source": "I need the list of zip codes for TORONTO, with geo coordinates (latitude and longitude)\n\nThe best way to get it \u2013 URL from Wikipedia\n\nFoursquare API to explore venue types surrounding each zip. Foursquare outlines these high-level venue categories with more sub-categories.\n\n"
        },
        {
            "cell_type": "code",
            "execution_count": null,
            "metadata": {},
            "outputs": [],
            "source": ""
        }
    ],
    "metadata": {
        "kernelspec": {
            "display_name": "Python 3.6",
            "language": "python",
            "name": "python3"
        },
        "language_info": {
            "codemirror_mode": {
                "name": "ipython",
                "version": 3
            },
            "file_extension": ".py",
            "mimetype": "text/x-python",
            "name": "python",
            "nbconvert_exporter": "python",
            "pygments_lexer": "ipython3",
            "version": "3.6.9"
        }
    },
    "nbformat": 4,
    "nbformat_minor": 1
}